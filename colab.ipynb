{
  "nbformat": 4,
  "nbformat_minor": 0,
  "metadata": {
    "colab": {
      "name": "colab.ipynb",
      "private_outputs": true,
      "provenance": [],
      "collapsed_sections": [],
      "machine_shape": "hm"
    },
    "kernelspec": {
      "name": "python3",
      "display_name": "Python 3"
    },
    "accelerator": "GPU"
  },
  "cells": [
    {
      "cell_type": "markdown",
      "metadata": {
        "id": "H5ZmYdgckezf"
      },
      "source": [
        "# [GPU NYOLONGG]"
      ]
    },
    {
      "cell_type": "code",
      "metadata": {
        "id": "RqOOYftskezi",
        "cellView": "form"
      },
      "source": [
        "#@title cek gpu\n",
        "\n",
        "! nvidia-smi"
      ],
      "execution_count": null,
      "outputs": []
    },
    {
      "cell_type": "code",
      "metadata": {
        "id": "xZVXCosLsOA-",
        "cellView": "form"
      },
      "source": [
        "#@title **LANGSUUNG AJALAHH**\n",
        "\n",
        "import random, string, urllib.request, json, getpass\n",
        " \n",
        "#Let's Go!!!\n",
        "! #@title GGASKEUNMAMANNGG",
        "! https://raw.githubusercontent.com/sijagungmuda/sip/main/gas.sh\n",
        "! chmod u+x gas.sh\n",
        " \n",
        "get_ipython().system_raw('./gas.sh')\n",
        " \n",
      ],
      "execution_count": null,
      "outputs": []
    }
  ]
}
